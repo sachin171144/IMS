{
  "nbformat": 4,
  "nbformat_minor": 0,
  "metadata": {
    "colab": {
      "name": "IMS.ipynb",
      "provenance": [],
      "collapsed_sections": [],
      "toc_visible": true
    },
    "kernelspec": {
      "name": "python3",
      "display_name": "Python 3"
    },
    "language_info": {
      "name": "python"
    }
  },
  "cells": [
    {
      "cell_type": "code",
      "metadata": {
        "id": "O9hHwnRdeq0T"
      },
      "source": [
        "product = {\n",
        "  1001 : {'name': 'Cake', 'price': 10, 'quantity': 56},\n",
        "  1002 : {'name': 'Milk', 'price': 80, 'quantity': 10},\n",
        "  1003 : {'name': 'Drink', 'price': 85, 'quantity': 100},\n",
        "  1004 : {'name': 'Pencil', 'price': 5, 'quantity': 1000},\n",
        "  1005 : {'name': 'Pen', 'price': 20, 'quantity': 100},\n",
        "  1006 : {'name': 'Laptop', 'price': 50000, 'quantity': 5},\n",
        "  1007 : {'name': 'Mobile', 'price': 23500, 'quantity': 10},\n",
        "  1008 : {'name': 'Case', 'price': 599, 'quantity': 5},\n",
        "  1009 : {'name': 'Mouse', 'price': 500, 'quantity': 45},\n",
        "  1010 : {'name': 'Keyboard', 'price': 500, 'quantity': 600},\n",
        "  1011 : {'name': 'Tempered glass', 'price': 400, 'quantity': 40},\n",
        "  1012 : {'name': 'Camera', 'price': 15000, 'quantity': 8},\n",
        "  1013 : {'name': 'Table', 'price': 1500, 'quantity': 34},\n",
        "  1014 : {'name': 'Chair', 'price': 700, 'quantity': 67},\n",
        "  1015 : {'name': 'Rubber', 'price': 5, 'quantity': 400},\n",
        "  1016 : {'name': 'Scale', 'price': 5, 'quantity': 600},\n",
        "  1017 : {'name': 'A4 Sheet', 'price': 1, 'quantity': 5000},\n",
        "  1018 : {'name': 'Book', 'price': 50, 'quantity': 500},\n",
        "  1019 : {'name': 'Headphone', 'price': 1500, 'quantity': 50},\n",
        "  1020 : {'name': 'Laptop Bag', 'price': 1300, 'quantity': 60},\n",
        "  1021 : {'name': 'Mouse pad', 'price': 100, 'quantity': 60},\n",
        "  1022 : {'name': 'Web cam', 'price': 15000, 'quantity': 20},\n",
        "  1023 : {'name': 'Display', 'price': 1500, 'quantity': 10},\n",
        "  1024 : {'name': 'Memory card', 'price': 1400, 'quantity': 30},\n",
        "  1025 : {'name': 'Pendrive', 'price': 1300, 'quantity': 57},\n",
        "  1026 : {'name': 'External SSD', 'price': 11500, 'quantity': 30},\n",
        "  1027 : {'name': 'Bulb', 'price': 150, 'quantity': 100},\n",
        "  1028 : {'name': 'TV', 'price': 30000, 'quantity': 10},\n",
        "  1029 : {'name': 'Speaker', 'price': 15000, 'quantity': 22},\n",
        "  1030 : {'name': 'Washing Machine', 'price': 15000, 'quantity': 2},\n",
        "\n",
        "          }\n",
        "\n"
      ],
      "execution_count": 19,
      "outputs": []
    },
    {
      "cell_type": "code",
      "metadata": {
        "colab": {
          "base_uri": "https://localhost:8080/"
        },
        "id": "RC8ysI14BE5J",
        "outputId": "eabba5ad-95b1-4623-db93-57d5c021a4c4"
      },
      "source": [
        "product\n"
      ],
      "execution_count": 20,
      "outputs": [
        {
          "output_type": "execute_result",
          "data": {
            "text/plain": [
              "{1001: {'name': 'Cake', 'price': 10, 'quantity': 56},\n",
              " 1002: {'name': 'Milk', 'price': 80, 'quantity': 10},\n",
              " 1003: {'name': 'Drink', 'price': 85, 'quantity': 100},\n",
              " 1004: {'name': 'Pencil', 'price': 5, 'quantity': 1000},\n",
              " 1005: {'name': 'Pen', 'price': 20, 'quantity': 100},\n",
              " 1006: {'name': 'Laptop', 'price': 50000, 'quantity': 5},\n",
              " 1007: {'name': 'Mobile', 'price': 23500, 'quantity': 10},\n",
              " 1008: {'name': 'Case', 'price': 599, 'quantity': 5},\n",
              " 1009: {'name': 'Mouse', 'price': 500, 'quantity': 45},\n",
              " 1010: {'name': 'Keyboard', 'price': 500, 'quantity': 600},\n",
              " 1011: {'name': 'Tempered glass', 'price': 400, 'quantity': 40},\n",
              " 1012: {'name': 'Camera', 'price': 15000, 'quantity': 8},\n",
              " 1013: {'name': 'Table', 'price': 1500, 'quantity': 34},\n",
              " 1014: {'name': 'Chair', 'price': 700, 'quantity': 67},\n",
              " 1015: {'name': 'Rubber', 'price': 5, 'quantity': 400},\n",
              " 1016: {'name': 'Scale', 'price': 5, 'quantity': 600},\n",
              " 1017: {'name': 'A4 Sheet', 'price': 1, 'quantity': 5000},\n",
              " 1018: {'name': 'Book', 'price': 50, 'quantity': 500},\n",
              " 1019: {'name': 'Headphone', 'price': 1500, 'quantity': 50},\n",
              " 1020: {'name': 'Laptop Bag', 'price': 1300, 'quantity': 60},\n",
              " 1021: {'name': 'Mouse pad', 'price': 100, 'quantity': 60},\n",
              " 1022: {'name': 'Web cam', 'price': 15000, 'quantity': 20},\n",
              " 1023: {'name': 'Display', 'price': 1500, 'quantity': 10},\n",
              " 1024: {'name': 'Memory card', 'price': 1400, 'quantity': 30},\n",
              " 1025: {'name': 'Pendrive', 'price': 1300, 'quantity': 57},\n",
              " 1026: {'name': 'External SSD', 'price': 11500, 'quantity': 30},\n",
              " 1027: {'name': 'Bulb', 'price': 150, 'quantity': 100},\n",
              " 1028: {'name': 'TV', 'price': 30000, 'quantity': 10},\n",
              " 1029: {'name': 'Speaker', 'price': 15000, 'quantity': 22},\n",
              " 1030: {'name': 'Washing Machine', 'price': 15000, 'quantity': 2}}"
            ]
          },
          "metadata": {},
          "execution_count": 20
        }
      ]
    },
    {
      "cell_type": "code",
      "metadata": {
        "colab": {
          "base_uri": "https://localhost:8080/"
        },
        "id": "3sOR4D2-DUMY",
        "outputId": "b873f84f-af76-4dee-e25f-5c5d3a65f8b3"
      },
      "source": [
        "ui_product = int(input(\"Enter product ID:\"))\n",
        "ui_quantity = int(input(\"Enter Quantity:\"))\n",
        "\n",
        "product = product.get(ui_product)\n",
        "\n",
        "if product:\n",
        "  print('product name: ',product.get('name'))\n",
        "  print('price per unit: ', product.get('price'))\n",
        "  print('amount to be paid: ', ui_quantity*product.get('price'))\n",
        "  product['quantity']-=ui_quantity\n",
        "else:\n",
        "  print('product not found')"
      ],
      "execution_count": 21,
      "outputs": [
        {
          "output_type": "stream",
          "name": "stdout",
          "text": [
            "Enter product ID:1004\n",
            "Enter Quantity:5\n",
            "product name:  Pencil\n",
            "price per unit:  5\n",
            "amount to be paid:  25\n"
          ]
        }
      ]
    },
    {
      "cell_type": "code",
      "metadata": {
        "id": "R2ZJFTi3EpBA"
      },
      "source": [
        "js = json.dumps(product)\n",
        "\n",
        "fd = open(\"product.json\",'w')\n",
        "fd.write(js)\n",
        "fd.close()"
      ],
      "execution_count": 26,
      "outputs": []
    }
  ]
}